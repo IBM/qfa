{
 "cells": [
  {
   "cell_type": "code",
   "execution_count": 1,
   "metadata": {},
   "outputs": [
    {
     "name": "stderr",
     "output_type": "stream",
     "text": [
      "Using TensorFlow backend.\n"
     ]
    }
   ],
   "source": [
    "import tensorflow as tf\n",
    "from tensorflow.keras import layers\n",
    "import numpy as np\n",
    "from tensorflow.keras import Input\n",
    "from tensorflow.keras.layers import Lambda\n",
    "from tensorflow.keras import optimizers\n",
    "from tensorflow.keras import Model\n",
    "from tensorflow.keras.utils import to_categorical\n",
    "from tensorflow.keras.regularizers import l2\n",
    "import matplotlib.pyplot as plt\n",
    "import matplotlib.image as mpimg\n",
    "import matplotlib.ticker as ticker\n",
    "from keras import backend as K\n",
    "import csv\n",
    "import matplotlib.pyplot as plt\n",
    "import numpy as np\n",
    "import time \n",
    "from tensorflow.compat.v1 import ConfigProto\n",
    "from tensorflow.compat.v1 import InteractiveSession\n",
    "import os\n",
    "import pandas as pd"
   ]
  },
  {
   "cell_type": "code",
   "execution_count": 2,
   "metadata": {
    "collapsed": true
   },
   "outputs": [],
   "source": [
    "def spread(x):\n",
    "    return max(x)-min(x)"
   ]
  },
  {
   "cell_type": "code",
   "execution_count": 3,
   "metadata": {
    "collapsed": true
   },
   "outputs": [],
   "source": [
    "data_dir = \"../QAR/output/bond/\""
   ]
  },
  {
   "cell_type": "code",
   "execution_count": 4,
   "metadata": {
    "collapsed": true
   },
   "outputs": [],
   "source": [
    "data = pd.read_csv(data_dir + 'bond_disbond_qper_for_cnn.csv')"
   ]
  },
  {
   "cell_type": "code",
   "execution_count": 5,
   "metadata": {
    "collapsed": true
   },
   "outputs": [],
   "source": [
    "folds = data['fold']\n",
    "labels = data['class']\n",
    "data = data[data.columns[2:]]\n",
    "nr = 45\n",
    "nc = 128"
   ]
  },
  {
   "cell_type": "code",
   "execution_count": 6,
   "metadata": {},
   "outputs": [
    {
     "data": {
      "text/plain": [
       "(708, 45, 128, 1)"
      ]
     },
     "execution_count": 6,
     "metadata": {},
     "output_type": "execute_result"
    }
   ],
   "source": [
    "x = np.array(data)\n",
    "x = x.reshape( [-1, nr, nc, 1])\n",
    "x.shape"
   ]
  },
  {
   "cell_type": "code",
   "execution_count": 8,
   "metadata": {},
   "outputs": [
    {
     "data": {
      "image/png": "[encoded data removed]",
      "text/plain": [
       "<Figure size 432x288 with 1 Axes>"
      ]
     },
     "metadata": {
      "needs_background": "light"
     },
     "output_type": "display_data"
    }
   ],
   "source": [
    "plt.imshow(x[0].reshape([nr,nc]))\n",
    "plt.axis([0,nc,0,nr])\n",
    "plt.show()"
   ]
  },
  {
   "cell_type": "code",
   "execution_count": 9,
   "metadata": {
    "collapsed": true
   },
   "outputs": [],
   "source": [
    "ns = x.shape[0]\n",
    "y = np.ones([ns,2])\n",
    "for i in range(ns):\n",
    "    if labels[i] == 1:\n",
    "        y[i] = [1,0]\n",
    "    else:\n",
    "        y[i] = [0,1]"
   ]
  },
  {
   "cell_type": "code",
   "execution_count": null,
   "metadata": {
    "collapsed": true
   },
   "outputs": [],
   "source": []
  },
  {
   "cell_type": "code",
   "execution_count": 191,
   "metadata": {
    "scrolled": true
   },
   "outputs": [
    {
     "name": "stdout",
     "output_type": "stream",
     "text": [
      "Fold 1\n",
      "Fold 2\n",
      "Fold 3\n",
      "Fold 4\n",
      "Fold 5\n",
      "Model: \"model\"\n",
      "_________________________________________________________________\n",
      "Layer (type)                 Output Shape              Param #   \n",
      "=================================================================\n",
      "input_1 (InputLayer)         [(None, 45, 128, 1)]      0         \n",
      "_________________________________________________________________\n",
      "conv2d (Conv2D)              (None, 45, 128, 16)       416       \n",
      "_________________________________________________________________\n",
      "max_pooling2d (MaxPooling2D) (None, 22, 64, 16)        0         \n",
      "_________________________________________________________________\n",
      "conv2d_1 (Conv2D)            (None, 22, 64, 8)         3208      \n",
      "_________________________________________________________________\n",
      "max_pooling2d_1 (MaxPooling2 (None, 11, 32, 8)         0         \n",
      "_________________________________________________________________\n",
      "flatten (Flatten)            (None, 2816)              0         \n",
      "_________________________________________________________________\n",
      "dense (Dense)                (None, 512)               1442304   \n",
      "_________________________________________________________________\n",
      "dense_1 (Dense)              (None, 512)               262656    \n",
      "_________________________________________________________________\n",
      "dense_2 (Dense)              (None, 2)                 1026      \n",
      "=================================================================\n",
      "Total params: 1,709,610\n",
      "Trainable params: 1,709,610\n",
      "Non-trainable params: 0\n",
      "_________________________________________________________________\n"
     ]
    }
   ],
   "source": [
    "f1 = 16\n",
    "f2 = 8\n",
    "k1 = 5\n",
    "k2 = 5\n",
    "h1 = 512\n",
    "h2 = 512\n",
    "h3 = 512\n",
    "lr = 1e-4\n",
    "epochs = 100\n",
    "batch_size = 50\n",
    "padding = 'same'\n",
    "nfolds = max(folds)\n",
    "accuracy_train = np.ones(nfolds)\n",
    "accuracy_test = np.ones(nfolds)\n",
    "for i in range(nfolds):\n",
    "    test_sel = (folds == i+1)\n",
    "    train_sel = ~(folds == i+1)\n",
    "    x_train = x[train_sel,]\n",
    "    y_train = y[train_sel,]\n",
    "    x_test = x[test_sel,]\n",
    "    y_test = y[test_sel,]\n",
    "    np.random.seed(1000)\n",
    "    idx = np.random.permutation(x_train.shape[0]) ## shuffle training data\n",
    "    x_train = x_train[idx,]\n",
    "    y_train = y_train[idx,]\n",
    "    print('Fold',i+1)\n",
    "    K.clear_session()\n",
    "    tf.random.set_seed(1000)\n",
    "    my_init = tf.keras.initializers.glorot_normal(seed=1000)\n",
    "    inp = Input(shape=(nr,nc,1),dtype = 'float32')\n",
    "    conv1 = layers.Conv2D(f1,(k1,k1), activation = 'relu',input_shape = (nr,nc,1),padding = padding)(inp)\n",
    "    pool1 = layers.MaxPooling2D((2, 2))(conv1)\n",
    "    conv2 = layers.Conv2D(f2,(k2,k2), activation = 'relu',padding = padding)(pool1)\n",
    "    pool2 = layers.MaxPooling2D((2, 2))(conv2)\n",
    "    flat = layers.Flatten()(pool2)\n",
    "    ##flat = layers.Dropout(0.5)(flat)\n",
    "    fc1 = layers.Dense(h1,activation = 'relu',kernel_initializer=my_init)(flat)\n",
    "    ##fc1 = layers.Dropout(0.2)(fc1)\n",
    "    fc2 = layers.Dense(h2,activation = 'relu',kernel_initializer=my_init)(fc1)\n",
    "    ##fc2 = layers.Dropout(0.2)(fc2)\n",
    "    out = layers.Dense(2,activation = 'sigmoid',kernel_initializer=my_init)(fc2)\n",
    "    model = Model(inp,out)\n",
    "    model.compile(loss = 'categorical_crossentropy', optimizer = optimizers.Adam(lr = lr), metrics = ['acc'])\n",
    "    filepath = 'bond_disbond'+str(i)+'b.h5'\n",
    "    if os.path.exists(filepath): os.remove(filepath)\n",
    "    callbacks_list = [tf.keras.callbacks.ModelCheckpoint(filepath=filepath,monitor='val_loss',save_best_only=True), \n",
    "        tf.keras.callbacks.ReduceLROnPlateau(monitor='val_loss', factor=0.5, patience=5)]\n",
    "    history = model.fit(x_train,y_train,validation_split=0.2,epochs=epochs,\n",
    "        batch_size=batch_size,callbacks=callbacks_list,verbose=0)\n",
    "    ytrain_pred = model.predict([x_train])\n",
    "    ytest_pred = model.predict([x_test])\n",
    "    ytr_pred0 = ytrain_pred[:,0] > ytrain_pred[:,1]\n",
    "    yte_pred0 = ytest_pred[:,0] > ytest_pred[:,1]\n",
    "    accuracy_train[i] = 100*(1.0 - np.mean(ytr_pred0 == y_train[:,1]))\n",
    "    accuracy_test[i] = 100*(1.0 - np.mean(yte_pred0 == y_test[:,1]))\n",
    "model.summary()"
   ]
  },
  {
   "cell_type": "code",
   "execution_count": 192,
   "metadata": {
    "scrolled": true
   },
   "outputs": [
    {
     "name": "stdout",
     "output_type": "stream",
     "text": [
      "mean accuracy in train = 99.29  spread = 1.06\n",
      "mean accuracy in test  = 98.45  spread = 2.11\n",
      "accuracy_train = [99.82 98.77 98.94 99.47 99.47]\n",
      "accuracy_test  = [98.6  98.58 99.29 97.18 98.58]\n"
     ]
    }
   ],
   "source": [
    "print('mean accuracy in train =', np.round(np.mean(accuracy_train),2),' spread =',np.round(spread(accuracy_train),2))\n",
    "print('mean accuracy in test  =', np.round(np.mean(accuracy_test),2),' spread =',np.round(spread(accuracy_test),2))\n",
    "print('accuracy_train =',np.round(accuracy_train,2))\n",
    "print('accuracy_test  =',np.round(accuracy_test,2))"
   ]
  },
  {
   "cell_type": "code",
   "execution_count": 193,
   "metadata": {},
   "outputs": [
    {
     "data": {
      "text/plain": [
       "<matplotlib.legend.Legend at 0x2a7d44d6400>"
      ]
     },
     "execution_count": 193,
     "metadata": {},
     "output_type": "execute_result"
    },
    {
     "data": {
      "image/png": "[encoded data removed]",
      "text/plain": [
       "<Figure size 432x288 with 1 Axes>"
      ]
     },
     "metadata": {
      "needs_background": "light"
     },
     "output_type": "display_data"
    }
   ],
   "source": [
    "plt.plot(history.history['acc'], label='acc')\n",
    "plt.plot(history.history['val_acc'], label = 'val_acc')\n",
    "plt.xlabel('Epoch')\n",
    "plt.ylabel('Accuracy')\n",
    "plt.ylim([0.79, 1.01])\n",
    "plt.legend(loc='lower right')"
   ]
  },
  {
   "cell_type": "code",
   "execution_count": 194,
   "metadata": {
    "scrolled": true
   },
   "outputs": [
    {
     "data": {
      "text/plain": [
       "<matplotlib.legend.Legend at 0x2a7d02dc978>"
      ]
     },
     "execution_count": 194,
     "metadata": {},
     "output_type": "execute_result"
    },
    {
     "data": {
      "image/png": "[encoded data removed]",
      "text/plain": [
       "<Figure size 432x288 with 1 Axes>"
      ]
     },
     "metadata": {
      "needs_background": "light"
     },
     "output_type": "display_data"
    }
   ],
   "source": [
    "plt.plot(history.history['loss'], label='loss')\n",
    "plt.plot(history.history['val_loss'], label = 'val_loss')\n",
    "plt.xlabel('Epoch')\n",
    "plt.ylabel('Loss')\n",
    "plt.ylim([-0.01, 0.61])\n",
    "plt.legend(loc='upper right')"
   ]
  }
 ],
 "metadata": {
  "kernelspec": {
   "display_name": "py35",
   "language": "python",
   "name": "py35"
  },
  "language_info": {
   "codemirror_mode": {
    "name": "ipython",
    "version": 3
   },
   "file_extension": ".py",
   "mimetype": "text/x-python",
   "name": "python",
   "nbconvert_exporter": "python",
   "pygments_lexer": "ipython3",
   "version": "3.5.6"
  }
 },
 "nbformat": 4,
 "nbformat_minor": 2
}
